{
  "nbformat": 4,
  "nbformat_minor": 0,
  "metadata": {
    "colab": {
      "provenance": [],
      "toc_visible": true,
      "mount_file_id": "1a49L6qgaT6PIWwlvsmUISrrqDq4j14mj",
      "authorship_tag": "ABX9TyNioaap7A7TrGACRLHwy2sc",
      "include_colab_link": true
    },
    "kernelspec": {
      "name": "python3",
      "display_name": "Python 3"
    },
    "language_info": {
      "name": "python"
    }
  },
  "cells": [
    {
      "cell_type": "markdown",
      "metadata": {
        "id": "view-in-github",
        "colab_type": "text"
      },
      "source": [
        "<a href=\"https://colab.research.google.com/github/RMYazdi/Reza_Sample_Code/blob/main/data_incubator_code_sample.ipynb\" target=\"_parent\"><img src=\"https://colab.research.google.com/assets/colab-badge.svg\" alt=\"Open In Colab\"/></a>"
      ]
    },
    {
      "cell_type": "markdown",
      "source": [
        "# Data Question\n"
      ],
      "metadata": {
        "id": "0vwUD48bqQ3d"
      }
    },
    {
      "cell_type": "code",
      "execution_count": null,
      "metadata": {
        "id": "J0sP9ISM_hzS"
      },
      "outputs": [],
      "source": [
        "#download data\n",
        "# cd /content/drive/MyDrive/Data_incubator\n",
        "# !wget --progress=bar:force https://dataincubator-challenge.s3.amazonaws.com/data-challenge-boston_311_calls/boston_311_calls.csv\n",
        "# !wget --progress=bar:force https://dataincubator-challenge.s3.amazonaws.com/data-challenge-boston_311_calls/boston_population_by_zip.csv\n",
        "# !wget --progress=bar:force https://dataincubator-challenge.s3.amazonaws.com/data-challenge-boston_311_calls/boston_02128_garbage_schedule.csv"
      ]
    },
    {
      "cell_type": "code",
      "source": [
        "import numpy as np\n",
        "import pandas as pd "
      ],
      "metadata": {
        "id": "mNEhDFnxAyJh"
      },
      "execution_count": null,
      "outputs": []
    },
    {
      "cell_type": "markdown",
      "source": [
        "##Data preparation"
      ],
      "metadata": {
        "id": "3k5MO8WkfOHp"
      }
    },
    {
      "cell_type": "code",
      "source": [
        "df=pd.read_csv(\"/content/drive/MyDrive/Data_incubator/boston_311_calls.csv\")\n",
        "df.fillna(\"n\",inplace=True)\n",
        "df['police_district'] = df['police_district'].str.replace('-', '')\n",
        "df['zip_code'] = df['location'].str.extract(r'\\b(\\d{5})\\b')\n",
        "df.fillna(\"n\",inplace=True)\n",
        "df['datetime'] = pd.to_datetime(df['open_dt'])\n",
        "df['request_weekday'] =df['datetime'].apply(lambda x: x.weekday()).values\n",
        "\n",
        "\n",
        "df_zip_code=pd.read_csv(\"/content/drive/MyDrive/Data_incubator/boston_population_by_zip.csv\", dtype={'Zip Code': str})\n",
        "df_zip_code.fillna(\"n\",inplace=True)\n",
        "\n",
        "\n",
        "df_garbage=pd.read_csv(\"/content/drive/MyDrive/Data_incubator/boston_02128_garbage_schedule.csv\")\n",
        "df_garbage.fillna(\"n\",inplace=True)\n"
      ],
      "metadata": {
        "id": "enNxjGJkfQIL"
      },
      "execution_count": null,
      "outputs": []
    },
    {
      "cell_type": "markdown",
      "source": [
        "##Question 1.1 and 1.2\n",
        "\n",
        "1.1 **How many rows are in the data set**?\n",
        "\n",
        "1.2 **What fraction of calls in this data set deal with traffic**? A complaint is considered to deal with traffic if it has the word \"traffic\" present in the value of the \"case_title\" column."
      ],
      "metadata": {
        "id": "BDpoyrvhfbWJ"
      }
    },
    {
      "cell_type": "code",
      "source": [
        "print(df.shape[0])"
      ],
      "metadata": {
        "colab": {
          "base_uri": "https://localhost:8080/"
        },
        "id": "uR4t6aLAfRPL",
        "outputId": "1063f42e-13bc-4af7-87d6-a83b8f0f3e61"
      },
      "execution_count": null,
      "outputs": [
        {
          "output_type": "stream",
          "name": "stdout",
          "text": [
            "1932760\n"
          ]
        }
      ]
    },
    {
      "cell_type": "code",
      "source": [
        "count = df['case_title'].str.contains('traffic').sum()\n",
        "print(count/df.shape[0])"
      ],
      "metadata": {
        "colab": {
          "base_uri": "https://localhost:8080/"
        },
        "id": "7aA3PGjOndSS",
        "outputId": "b6d2c1ae-c8b7-40a2-f1a3-9acecf988a62"
      },
      "execution_count": null,
      "outputs": [
        {
          "output_type": "stream",
          "name": "stdout",
          "text": [
            "3.621763695440717e-06\n"
          ]
        }
      ]
    },
    {
      "cell_type": "markdown",
      "source": [
        "##Question 1.3\n",
        "\n",
        "\n",
        "1.3 Each call is assigned a police district. **Compute how many calls are on average assigned to each police district every year**. What is the median of this average annual number of calls per police district? The date of the call is in column \"open_dt\" and the assigned police district is in column \"police_district\". Be careful though, the \"police_district\" column will need some cleaning. As an example, the same district may sometimes be logged as \"B2\" and other times as \"B-2\".\n",
        "\n"
      ],
      "metadata": {
        "id": "dODqXVq_s2xk"
      }
    },
    {
      "cell_type": "code",
      "source": [
        "df['police_district'] = df['police_district'].str.replace('-', '')\n",
        "\n",
        "# convert 'open_dt' to a datetime column and extract the year\n",
        "df['year'] = pd.to_datetime(df['open_dt']).dt.year\n",
        "\n",
        "# group by 'police_district' and 'year' and compute the count of calls\n",
        "grouped = df.groupby(['police_district', 'year']).size().reset_index(name='count')\n",
        "\n",
        "# compute the mean count of calls per year for each police district\n",
        "mean_calls = grouped.groupby('police_district')['count'].mean()\n",
        "\n",
        "# compute the median of the mean counts\n",
        "median_mean_calls = mean_calls.median()\n",
        "\n",
        "# print the results\n",
        "print(mean_calls)\n",
        "print(median_mean_calls)"
      ],
      "metadata": {
        "colab": {
          "base_uri": "https://localhost:8080/"
        },
        "id": "SAk04Vcf2qqT",
        "outputId": "3f970aaa-2afe-4441-e606-4d52cf372876"
      },
      "execution_count": null,
      "outputs": [
        {
          "output_type": "stream",
          "name": "stdout",
          "text": [
            "police_district\n",
            "A1     18125.000000\n",
            "A15     5379.416667\n",
            "A7      9867.583333\n",
            "B2     16004.583333\n",
            "B3     10619.500000\n",
            "C11    17950.250000\n",
            "C6     15095.500000\n",
            "D14    12767.916667\n",
            "D4     23007.750000\n",
            "E13    10677.250000\n",
            "E18     9466.000000\n",
            "E5     12033.250000\n",
            "n         69.333333\n",
            "Name: count, dtype: float64\n",
            "12033.25\n"
          ]
        }
      ]
    },
    {
      "cell_type": "markdown",
      "source": [
        "##Question 1.4\n",
        "\n",
        "1.4 **How does the number of received calls in a given ZIP code correlate to ZIP code population? Calculate the Pearson correlation coefficient of the number of calls received for each ZIP code with the ZIP code population.** To compute this, you will first need to extract the ZIP code of each call from the \"location\" column. A CSV file with the population data for each ZIP code can be downloaded here. Exclude ZIP codes that do not have more than 100 calls in this data set."
      ],
      "metadata": {
        "id": "PhgisRJ81kPc"
      }
    },
    {
      "cell_type": "code",
      "source": [
        "import pandas as pd\n",
        "import numpy as np\n",
        "\n",
        "\n",
        "# merge the call data with the population data using the ZIP code as the key\n",
        "merged = pd.merge(df, df_zip_code, left_on='zip_code', right_on='Zip Code')\n",
        "\n",
        "# exclude ZIP codes with less than 100 calls\n",
        "grouped = merged.groupby('Zip Code').filter(lambda x: len(x) >= 100)\n",
        "\n",
        "# compute the Pearson correlation coefficient between the number of calls and the population\n",
        "merged_df = pd.merge(grouped[['Zip Code','Population']].groupby(\"Zip Code\").min(), grouped['zip_code'].value_counts().to_frame(), left_index=True, right_index=True)\n",
        "\n",
        "# correlation=np.corrcoef(merged_df[\"Population\"],merged_df[\"zip_code\"])\n",
        "\n",
        "correlation=merged_df[\"Population\"].corr(merged_df[\"zip_code\"])\n",
        "\n",
        "# print the result\n",
        "print(correlation)"
      ],
      "metadata": {
        "id": "gfCY7HQJ6uyw",
        "colab": {
          "base_uri": "https://localhost:8080/"
        },
        "outputId": "d086f238-2150-4d16-b573-88c8f5a5380c"
      },
      "execution_count": null,
      "outputs": [
        {
          "output_type": "stream",
          "name": "stdout",
          "text": [
            "0.864303121385204\n"
          ]
        }
      ]
    },
    {
      "cell_type": "markdown",
      "source": [
        "##question 1.5\n",
        "\n",
        "1.5 We can determine the total number of calls received each year and notice a general increase over time. We can visualize this trend by plotting the annual number of calls as a function of time. What is the increase in calls for each year? Estimate the increase using a line of best fit.\n"
      ],
      "metadata": {
        "id": "-ZFW3fF0ROgs"
      }
    },
    {
      "cell_type": "code",
      "source": [
        "from scipy.stats import linregress\n",
        "linregress()"
      ],
      "metadata": {
        "id": "gLWaoTbHVTBQ"
      },
      "execution_count": null,
      "outputs": []
    },
    {
      "cell_type": "code",
      "source": [
        "import pandas as pd\n",
        "import matplotlib.pyplot as plt\n",
        "from scipy.stats import linregress\n",
        "\n",
        "# convert the \"open_dt\" column to a datetime object and extract the year\n",
        "df['year'] = pd.to_datetime(df['open_dt']).dt.year\n",
        "\n",
        "# group the data by year and count the number of calls in each year\n",
        "calls_by_year = df.groupby('year').size()\n",
        "\n",
        "# plot the annual number of calls as a function of time\n",
        "plt.plot(calls_by_year.index, calls_by_year.values, 'o')\n",
        "\n",
        "# compute the line of best fit using linear regression\n",
        "slope, intercept, r_value, p_value, std_err = linregress(calls_by_year.index, calls_by_year.values)\n",
        "\n",
        "# add the line of best fit to the plot\n",
        "plt.plot(calls_by_year.index, intercept + slope * calls_by_year.index, 'r')\n",
        "\n",
        "# add labels and a title to the plot\n",
        "plt.xlabel('Year')\n",
        "plt.ylabel('Number of Calls')\n",
        "plt.title('Annual Number of Calls')\n",
        "\n",
        "# print the estimated increase per year\n",
        "print(f\"The estimated increase in calls per year is {slope:.2f}.\")\n"
      ],
      "metadata": {
        "colab": {
          "base_uri": "https://localhost:8080/",
          "height": 489
        },
        "id": "Bw0v9xCdQWpw",
        "outputId": "9f98e780-996a-4a07-83d0-b399be07ad16"
      },
      "execution_count": null,
      "outputs": [
        {
          "output_type": "stream",
          "name": "stdout",
          "text": [
            "The estimated increase in calls per year is 15012.82.\n"
          ]
        },
        {
          "output_type": "display_data",
          "data": {
            "text/plain": [
              "<Figure size 640x480 with 1 Axes>"
            ],
            "image/png": "[encoded data removed]"
          },
          "metadata": {}
        }
      ]
    },
    {
      "cell_type": "markdown",
      "source": [
        "##question 1.6\n",
        "\n",
        "\n",
        "1.6 We would like to determine on average how many days after garbage collection are requests for street cleaning made. Let's focus only on service requests from ZIP code \"02128\" that have \"Requests for Street Cleaning\" listed in the \"type\" column. Getting the ZIP code of each call will again require extracting it from the \"location\" column. Now determine the day of garbage collection for each request location by using the \"latitude\" and \"longitude\" columns and finding the collection point in this data set that is closest to it (use Euclidean distance as a measure of distance between two locations). Column \"trashday\" in the garbage collection data set contains information about the week day that garbage is collected. On average how many days after a garbage collection are requests for street cleaning made? Please provide the script used to compute your response (max 10000 characters)."
      ],
      "metadata": {
        "id": "StsGZaDmZF1P"
      }
    },
    {
      "cell_type": "code",
      "source": [
        "def euclidean_distance(lat1, lon1, lat2, lon2):\n",
        "    return np.sqrt((lat1 - lat2)**2 + (lon1 - lon2)**2)\n",
        "\n",
        "street_cleaning = df[(df['zip_code'].str.contains('02128')) & (df['type'] == 'Requests for Street Cleaning')]\n",
        "\n",
        "street_cleaning.reset_index()\n",
        "\n",
        "# Calculate the distance between each street cleaning request and each garbage collection location\n",
        "distances = euclidean_distance(street_cleaning['latitude'].values[:,np.newaxis], street_cleaning['longitude'].values[:,np.newaxis],\n",
        "                               df_garbage['latitude'].values, df_garbage['longitude'].values)\n"
      ],
      "metadata": {
        "id": "4Hu7qkDBY3D_"
      },
      "execution_count": null,
      "outputs": []
    },
    {
      "cell_type": "code",
      "source": [
        "import numpy as np\n",
        "\n",
        "# Define a function to calculate Euclidean distance between two sets of coordinates\n",
        "def euclidean_distance(lat1, lon1, lat2, lon2):\n",
        "    return np.sqrt((lat1 - lat2)**2 + (lon1 - lon2)**2)\n",
        "\n",
        "# Filter the data to only include street cleaning requests in ZIP code \"02128\" with \"Requests for Street Cleaning\" type\n",
        "street_cleaning = df[(df['zip_code'].str.contains('02128')) & (df['type'] == 'Requests for Street Cleaning')]\n",
        "\n",
        "street_cleaning.reset_index()\n",
        "\n",
        "# Calculate the distance between each street cleaning request and each garbage collection location\n",
        "distances = euclidean_distance(street_cleaning['latitude'].values[:,np.newaxis], street_cleaning['longitude'].values[:,np.newaxis],\n",
        "                               df_garbage['latitude'].values, df_garbage['longitude'].values)\n",
        "\n",
        "\n",
        "\n",
        "# Map integer weekday values to string values\n",
        "week_dic={'Monday': 0,\n",
        " 'Tuesday': 1,\n",
        " 'Wednesday': 2,\n",
        " 'Thursday': 3,\n",
        " 'Friday': 4,\n",
        " 'Saturday': 5,\n",
        " 'Sunday': 6}\n",
        "\n",
        "\n",
        "nearest_garbage_index = np.argmin(distances, axis=1)\n",
        "\n",
        "\n",
        "df_garbage['request_weekday'] = df_garbage['trashday'].map(lambda x:week_dic[x])\n",
        "\n",
        "# Find the index of the nearest garbage collection location for each street cleaning request\n",
        "\n",
        "# Get the date of the nearest garbage collection for each street cleaning request\n",
        "street_cleaning.loc[:, 'garbage_date'] = df_garbage.loc[nearest_garbage_index]['request_weekday'].values\n",
        "\n",
        "# Calculate the average number of days since garbage collection for all street cleaning requests in ZIP code \"02128\"\n",
        "def neg_transform(x):\n",
        "  if x<0:\n",
        "    return 7+x\n",
        "  else:\n",
        "    return x \n",
        "\n",
        "days_since_garbage = (street_cleaning['request_weekday'] - street_cleaning['garbage_date']).map(neg_transform).mean()\n",
        "\n",
        "print(\"On average, requests for street cleaning are made {} days after a garbage collection.\".format(days_since_garbage))\n"
      ],
      "metadata": {
        "id": "Le3C94jxdu-T"
      },
      "execution_count": null,
      "outputs": []
    }
  ]
}